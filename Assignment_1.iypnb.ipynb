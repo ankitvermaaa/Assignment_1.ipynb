{
  "nbformat": 4,
  "nbformat_minor": 0,
  "metadata": {
    "colab": {
      "provenance": []
    },
    "kernelspec": {
      "name": "python3",
      "display_name": "Python 3"
    },
    "language_info": {
      "name": "python"
    }
  },
  "cells": [
    {
      "cell_type": "markdown",
      "source": [
        "#Assignment 1\n",
        "\n",
        "1.What is Python, and why is it popular\n",
        "- Python is a high level, interpreted programming language. It is also a object-oriented programming language.\n",
        "Python was developed by Guido van Rossum in 1991.\n",
        "\n",
        "It is popular because of some reasons are given below:\n",
        "- It is easy to learn and read.\n",
        "- It is having large number of libraries 1,65,000 approx.\n",
        "- It has Dynamic Typing means no need to declare variable explicitly.\n",
        "- It is Flexible in nature.\n",
        "- Community support is best .\n",
        "\n",
        "2. What is an interpreter in Python?\n",
        "- Python is a interpreter language which means code is executed line by line.\n",
        "Making it easy to debug and test. It is also compilde into bytecode for improved performance using tools like Cython, Pyintalled.\n",
        "\n",
        "3. What are pre-defined keywords in Python?\n",
        "- Pre-Defined keywords are the reserved keywords in python that have special meaning and cannot be used as identifier.\n",
        "- For Example : Print, if, else , while , class , etc.\n",
        "\n",
        "4. Can keywords be used as variable names?\n",
        "- No, keywords can not be used as variable name becaue variable name should be meaningful and understandable to the user.\n",
        "- For Example: Total_Amount is the right way to make variable.\n",
        "\n",
        "5. What is mutability in Python?\n",
        "- Mutability means whether the object value can be changed after creation.\n",
        "- Mutable objects = can be changed (List , Set , Dict)\n",
        "- Immutable objects = can not be changed (tuple , str , int)\n",
        "\n",
        "6. Why are lists mutable, but tuples are immutable?\n",
        "- Lists are mutable because In list we can change the values and it stores Dynamic values which can be changed Whereas Tuples are immutable because Tuples are used to store fixed values thats why they are immutable and cannot be changed.\n",
        "\n",
        "7. What is the difference between “==” and “is” operators in Python?\n",
        "- \"==\" checks if the values of two objects are equal, while \"is\" checks if two variables point to the sam memory location (i.e., if they are the same object).\n",
        "\n",
        "8. What are logical operators in Python?\n",
        "- Logical Operators are used to define condition in the program.\n",
        "Logical Operators are : and , or , not.\n",
        "- And : true if both conditions are True.\n",
        "- Or : True if at least one condition is True.\n",
        "- Not : reverses the condition.\n",
        "\n",
        "9. What is type casting in Python?\n",
        "- Type Casting is the process to change the datatype into another.\n",
        "- For example : x = \"5\" # 5 is a string.\n",
        "                y = int(x) # int(x) change the datatype from string to interge.\n",
        "\n",
        "10. Difference between implicit and explicit type casting?\n",
        "- Implicit : It is a conversion performed by the python interpreter without programmers invention.\n",
        "\n",
        "- Explicit : It is a user defined that forces an expression or to be of specific data type.\n",
        "\n",
        "11. What is the purpose of conditional statements in Python?\n",
        "- Conditional statements allow the program to make decisions and execute code based on conditions (e.g., if, elif, else).\n",
        "\n",
        "12. How does the elif statement work?\n",
        "- The elif statement provides additional conditions after an initial if. It is only executed if the previous if or elif condition was False.\n",
        "\n",
        "13. Difference between for and while loops?\n",
        "- for loop = used when the number of iterations is known.\n",
        "\n",
        "- while loop = used when the number of iterations is not known and depends on a condition.\n",
        "\n",
        "14. Scenario where a while loop is more suitable than a for loop?\n",
        "- A while loop is ideal when you want to continue looping until a specific condition is met, like waiting for user input or monitoring a process until it completes.\n",
        "\n",
        "\n",
        "\n",
        "\n",
        "\n",
        "\n"
      ],
      "metadata": {
        "id": "hZC5G6h2GOys"
      }
    },
    {
      "cell_type": "markdown",
      "source": [
        "#Practical Questions\n"
      ],
      "metadata": {
        "id": "j3zQGLiDcLs4"
      }
    },
    {
      "cell_type": "code",
      "source": [
        "# 1 Write a Python program to print \"Hello, World!\n",
        "\n",
        "print(\"Hello, World!\")\n"
      ],
      "metadata": {
        "colab": {
          "base_uri": "https://localhost:8080/"
        },
        "id": "M6Snk24ATZyn",
        "outputId": "23017653-8ff7-434b-a3ff-d2626e4fcdb9"
      },
      "execution_count": 1,
      "outputs": [
        {
          "output_type": "stream",
          "name": "stdout",
          "text": [
            "Hello, World!\n"
          ]
        }
      ]
    },
    {
      "cell_type": "code",
      "source": [
        "# 2 Write a Python program that displays your name and age.\n",
        "Name = \"Ankit Verma\"\n",
        "Age = 20\n",
        "print (\"My Name is\", Name)\n",
        "print (\"My Age is\", Age)"
      ],
      "metadata": {
        "colab": {
          "base_uri": "https://localhost:8080/"
        },
        "id": "9W2J07ePg0qw",
        "outputId": "b1ec7008-c899-4182-b342-7b8a0ed16975"
      },
      "execution_count": 11,
      "outputs": [
        {
          "output_type": "stream",
          "name": "stdout",
          "text": [
            "My Name is Ankit Verma\n",
            "My Age is 20\n"
          ]
        }
      ]
    },
    {
      "cell_type": "code",
      "source": [
        "# 3 Write code to print all the pre-defined keywords in Python using the keyword library\n",
        "import keyword\n",
        "print(\"Python Keywords are:\")\n",
        "print(keyword.kwlist)\n",
        "print(\"total numbers of keywords are \", len(keyword.kwlist))"
      ],
      "metadata": {
        "colab": {
          "base_uri": "https://localhost:8080/"
        },
        "id": "ky8QMOYGhFgY",
        "outputId": "7f55170a-747a-41f6-8f98-ac18cfe588cc"
      },
      "execution_count": 24,
      "outputs": [
        {
          "output_type": "stream",
          "name": "stdout",
          "text": [
            "Python Keywords are:\n",
            "['False', 'None', 'True', 'and', 'as', 'assert', 'async', 'await', 'break', 'class', 'continue', 'def', 'del', 'elif', 'else', 'except', 'finally', 'for', 'from', 'global', 'if', 'import', 'in', 'is', 'lambda', 'nonlocal', 'not', 'or', 'pass', 'raise', 'return', 'try', 'while', 'with', 'yield']\n",
            "total numbers of keywords are  35\n"
          ]
        }
      ]
    },
    {
      "cell_type": "code",
      "source": [
        "# 4 Write a program that checks if a given word is a Python keyword\n",
        "import keyword\n",
        "keywords = \"['False', 'None', 'True', 'and', 'as', 'assert', 'async', 'await', 'break', 'class', 'continue', 'def', 'del', 'elif', 'else', 'except', 'finally', 'for', 'from', 'global', 'if', 'import', 'in', 'is', 'lambda', 'nonlocal', 'not', 'or', 'pass', 'raise', 'return', 'try', 'while', 'with', 'yield']\"\n",
        "word = input(\"enter a keyword: \")\n",
        "if word in keywords:\n",
        "  print(\"it is a keyword\")\n",
        "else:\n",
        "  print(\"it is not a keyword\")"
      ],
      "metadata": {
        "colab": {
          "base_uri": "https://localhost:8080/"
        },
        "id": "tUHZHrVRhx8U",
        "outputId": "f70a556e-fb4d-40a3-cd59-845a22b25d49"
      },
      "execution_count": 25,
      "outputs": [
        {
          "output_type": "stream",
          "name": "stdout",
          "text": [
            "enter a keyword: from\n",
            "it is a keyword\n"
          ]
        }
      ]
    },
    {
      "cell_type": "code",
      "source": [
        "# 5 Create a list and tuple in Python, and demonstrate how attempting to change an element works differently for each.\n",
        "# list can change(mutable)\n",
        "list = [1,2,3]\n",
        "list[0]= 100\n",
        "print(\"list is :\",list)\n",
        "# tuple can not change(immutable)\n",
        "tuple = (1,2,3)\n",
        "tuple[0] = 100\n",
        "print(\"tuple is :\",tuple)"
      ],
      "metadata": {
        "colab": {
          "base_uri": "https://localhost:8080/",
          "height": 211
        },
        "id": "itNBFubtk9tx",
        "outputId": "56de8d3e-2f71-419e-e148-73da92889407"
      },
      "execution_count": 31,
      "outputs": [
        {
          "output_type": "stream",
          "name": "stdout",
          "text": [
            "list is : [100, 2, 3]\n"
          ]
        },
        {
          "output_type": "error",
          "ename": "TypeError",
          "evalue": "'tuple' object does not support item assignment",
          "traceback": [
            "\u001b[0;31m---------------------------------------------------------------------------\u001b[0m",
            "\u001b[0;31mTypeError\u001b[0m                                 Traceback (most recent call last)",
            "\u001b[0;32m/tmp/ipython-input-2519279356.py\u001b[0m in \u001b[0;36m<cell line: 0>\u001b[0;34m()\u001b[0m\n\u001b[1;32m      6\u001b[0m \u001b[0;31m# tuple can not change(immutable)\u001b[0m\u001b[0;34m\u001b[0m\u001b[0;34m\u001b[0m\u001b[0m\n\u001b[1;32m      7\u001b[0m \u001b[0mtuple\u001b[0m \u001b[0;34m=\u001b[0m \u001b[0;34m(\u001b[0m\u001b[0;36m1\u001b[0m\u001b[0;34m,\u001b[0m\u001b[0;36m2\u001b[0m\u001b[0;34m,\u001b[0m\u001b[0;36m3\u001b[0m\u001b[0;34m)\u001b[0m\u001b[0;34m\u001b[0m\u001b[0;34m\u001b[0m\u001b[0m\n\u001b[0;32m----> 8\u001b[0;31m \u001b[0mtuple\u001b[0m\u001b[0;34m[\u001b[0m\u001b[0;36m0\u001b[0m\u001b[0;34m]\u001b[0m \u001b[0;34m=\u001b[0m \u001b[0;36m100\u001b[0m\u001b[0;34m\u001b[0m\u001b[0;34m\u001b[0m\u001b[0m\n\u001b[0m\u001b[1;32m      9\u001b[0m \u001b[0mprint\u001b[0m\u001b[0;34m(\u001b[0m\u001b[0;34m\"tuple is :\"\u001b[0m\u001b[0;34m,\u001b[0m\u001b[0mtuple\u001b[0m\u001b[0;34m)\u001b[0m\u001b[0;34m\u001b[0m\u001b[0;34m\u001b[0m\u001b[0m\n",
            "\u001b[0;31mTypeError\u001b[0m: 'tuple' object does not support item assignment"
          ]
        }
      ]
    },
    {
      "cell_type": "code",
      "source": [
        "# 6 Write a function to demonstrate the behavior of mutable and immutable arguments\n",
        "def modify(num, my_list):\n",
        "    # immutable (int)\n",
        "    num += 10\n",
        "\n",
        "    # mutable (list)\n",
        "    my_list.append(99)\n",
        "\n",
        "    print(\"Inside function - num:\", num)\n",
        "    print(\"Inside function - list:\", my_list)\n",
        "\n",
        "n = 5\n",
        "lst = [1, 2, 3]\n",
        "\n",
        "print(\"Before function call - num:\", n)\n",
        "print(\"Before function call - list:\", lst)\n",
        "\n",
        "modify(n, lst)\n",
        "\n",
        "print(\"After function call - num:\", n)     # unchanged (immutable)\n",
        "print(\"After function call - list:\", lst)  # changed (mutable)"
      ],
      "metadata": {
        "colab": {
          "base_uri": "https://localhost:8080/"
        },
        "id": "EF-a5naon2U0",
        "outputId": "703798c1-0ae5-4f5d-912d-afd7bb28f904"
      },
      "execution_count": 60,
      "outputs": [
        {
          "output_type": "stream",
          "name": "stdout",
          "text": [
            "Before function call - num: 5\n",
            "Before function call - list: [1, 2, 3]\n",
            "Inside function - num: 15\n",
            "Inside function - list: [1, 2, 3, 99]\n",
            "After function call - num: 5\n",
            "After function call - list: [1, 2, 3, 99]\n"
          ]
        }
      ]
    },
    {
      "cell_type": "code",
      "source": [
        "# 7 Write a program that performs basic arithmetic operations on two user-input numbers\n",
        "num1 = int(input(\"Enter first number: \"))\n",
        "num2 = int(input(\"Enter second number: \"))\n",
        "\n",
        "# Addition\n",
        "sum = num1 + num2\n",
        "print(\"Sum:\", sum)\n",
        "\n",
        "# Subtraction\n",
        "difference = num1 - num2\n",
        "print(\"Difference:\", difference)\n",
        "\n"
      ],
      "metadata": {
        "colab": {
          "base_uri": "https://localhost:8080/"
        },
        "id": "E2S_RbwVo-il",
        "outputId": "51937559-db57-47ab-f95b-c3f937ea047f"
      },
      "execution_count": 39,
      "outputs": [
        {
          "output_type": "stream",
          "name": "stdout",
          "text": [
            "Enter first number: 10\n",
            "Enter second number: 20\n",
            "Sum: 30\n",
            "Difference: -10\n"
          ]
        }
      ]
    },
    {
      "cell_type": "code",
      "source": [
        "# 8  Write a program to demonstrate the use of logical operators.\n",
        "a = True\n",
        "b = False\n",
        "print(\"a and b :\",a and b )\n",
        "print(\"a or b : \",a or b )\n",
        "print(\"not a   :\", not a)\n",
        "print(\"not b   :\", not b)"
      ],
      "metadata": {
        "colab": {
          "base_uri": "https://localhost:8080/"
        },
        "id": "ilvDnIgOpX5r",
        "outputId": "e46da7a0-764a-4779-ef1d-000bc8dd5874"
      },
      "execution_count": 45,
      "outputs": [
        {
          "output_type": "stream",
          "name": "stdout",
          "text": [
            "a and b : False\n",
            "a or b :  True\n",
            "not a   : False\n",
            "not b   : True\n"
          ]
        }
      ]
    },
    {
      "cell_type": "code",
      "source": [
        "# 9 Write a Python program to convert user input from string to integer, float, and boolean types.\n",
        "a = \"20\" #string\n",
        "b = int(a) #integer\n",
        "c = float(a) #float\n",
        "d = bool(a) #bool\n",
        "print(b)\n",
        "print(c)\n",
        "print(d)"
      ],
      "metadata": {
        "colab": {
          "base_uri": "https://localhost:8080/"
        },
        "id": "0np9xxGkrnGc",
        "outputId": "b0b7f970-4980-40da-ca59-f17174288e89"
      },
      "execution_count": 47,
      "outputs": [
        {
          "output_type": "stream",
          "name": "stdout",
          "text": [
            "20\n",
            "20.0\n",
            "True\n"
          ]
        }
      ]
    },
    {
      "cell_type": "code",
      "source": [
        "# 10 Write code to demonstrate type casting with list elements.\n",
        "str_list = [\"10\", \"20\", \"30\", \"40\"]\n",
        "\n",
        "# Convert string into integer\n",
        "int_list = [int(x) for x in str_list]\n",
        "\n",
        "# Convert each string into float\n",
        "float_list = [float(x) for x in str_list]\n",
        "\n",
        "print(\"Original list (strings):\", str_list)\n",
        "print(\"After type casting to int:\", int_list)\n",
        "print(\"After type casting to float:\", float_list)\n"
      ],
      "metadata": {
        "colab": {
          "base_uri": "https://localhost:8080/"
        },
        "id": "S0W2hvI6tPez",
        "outputId": "131fbddf-b479-49ad-ae4c-3c3c28829bf1"
      },
      "execution_count": 51,
      "outputs": [
        {
          "output_type": "stream",
          "name": "stdout",
          "text": [
            "Original list (strings): ['10', '20', '30', '40']\n",
            "After type casting to int: [10, 20, 30, 40]\n",
            "After type casting to float: [10.0, 20.0, 30.0, 40.0]\n"
          ]
        }
      ]
    },
    {
      "cell_type": "code",
      "source": [
        "# 11 Write a program that checks if a number is positive, negative, or zero.\n",
        "num = int(input(\"Enter a number: \"))\n",
        "\n",
        "if num > 0:\n",
        "    print(\"Positive\")\n",
        "elif num < 0:\n",
        "    print(\"Negative\")\n",
        "else:\n",
        "    print(\"Zero\")"
      ],
      "metadata": {
        "colab": {
          "base_uri": "https://localhost:8080/"
        },
        "id": "oVBCH5Iwuas_",
        "outputId": "1574b1a1-ae7b-4c2e-c369-f27030ef2e8e"
      },
      "execution_count": 52,
      "outputs": [
        {
          "output_type": "stream",
          "name": "stdout",
          "text": [
            "Enter a number: 23\n",
            "Positive\n"
          ]
        }
      ]
    },
    {
      "cell_type": "code",
      "source": [
        "# 12  Write a for loop to print numbers from 1 to 10.\n",
        "for i in range(1, 11):\n",
        "    print(i)"
      ],
      "metadata": {
        "colab": {
          "base_uri": "https://localhost:8080/"
        },
        "id": "c4iKpueS-RH1",
        "outputId": "e712f6e1-5d06-438b-bf21-81c26a6adc37"
      },
      "execution_count": 53,
      "outputs": [
        {
          "output_type": "stream",
          "name": "stdout",
          "text": [
            "1\n",
            "2\n",
            "3\n",
            "4\n",
            "5\n",
            "6\n",
            "7\n",
            "8\n",
            "9\n",
            "10\n"
          ]
        }
      ]
    },
    {
      "cell_type": "code",
      "source": [
        "# 13 . Write a Python program to find the sum of all even numbers between 1 and 50.\n",
        "total = 0\n",
        "for i in range(2, 51, 2):\n",
        "    total += i\n",
        "print(\"Sum of even numbers from 1 to 50:\", total)"
      ],
      "metadata": {
        "colab": {
          "base_uri": "https://localhost:8080/"
        },
        "id": "JeScZ7-E-Yi8",
        "outputId": "07ce6a49-47ff-49dc-e732-9232f448f0c5"
      },
      "execution_count": 55,
      "outputs": [
        {
          "output_type": "stream",
          "name": "stdout",
          "text": [
            "Sum of even numbers from 1 to 50: 650\n"
          ]
        }
      ]
    },
    {
      "cell_type": "code",
      "source": [
        "# 14 Write a program to reverse a string using a while loop.\n",
        "string = input(\"Enter a string: \")\n",
        "\n",
        "reversed_string = \"\"\n",
        "index = len(string) - 1\n",
        "\n",
        "while index >= 0:\n",
        "    reversed_string += string[index]\n",
        "    index -= 1\n",
        "\n",
        "print(\"Reversed string:\", reversed_string)"
      ],
      "metadata": {
        "colab": {
          "base_uri": "https://localhost:8080/"
        },
        "id": "-p1tuVeM-f25",
        "outputId": "c37534c5-3765-45f0-daaa-8431eaa263d0"
      },
      "execution_count": 56,
      "outputs": [
        {
          "output_type": "stream",
          "name": "stdout",
          "text": [
            "Enter a string: ANKIT\n",
            "Reversed string: TIKNA\n"
          ]
        }
      ]
    },
    {
      "cell_type": "code",
      "source": [
        "# 15  Write a Python program to calculate the factorial of a number provided by the user using a while loop.\n",
        "num = int(input(\"Enter a number: \"))\n",
        "fact = 1\n",
        "i = 1\n",
        "\n",
        "while i <= num:\n",
        "    fact *= i\n",
        "    i += 1\n",
        "\n",
        "print(\"Factorial of\", num, \"is\", fact)"
      ],
      "metadata": {
        "colab": {
          "base_uri": "https://localhost:8080/"
        },
        "id": "4mM-p83R-xq2",
        "outputId": "eb0c4580-987e-4477-a498-6b634b92278d"
      },
      "execution_count": 58,
      "outputs": [
        {
          "output_type": "stream",
          "name": "stdout",
          "text": [
            "Enter a number: 20\n",
            "Factorial of 20 is 2432902008176640000\n"
          ]
        }
      ]
    },
    {
      "cell_type": "code",
      "source": [],
      "metadata": {
        "id": "50WSJpHh-3MV"
      },
      "execution_count": null,
      "outputs": []
    }
  ]
}